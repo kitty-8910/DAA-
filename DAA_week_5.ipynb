{
  "nbformat": 4,
  "nbformat_minor": 0,
  "metadata": {
    "colab": {
      "provenance": [],
      "authorship_tag": "ABX9TyNsl1yFm+K5eqipimUjIgFh",
      "include_colab_link": true
    },
    "kernelspec": {
      "name": "python3",
      "display_name": "Python 3"
    },
    "language_info": {
      "name": "python"
    }
  },
  "cells": [
    {
      "cell_type": "markdown",
      "metadata": {
        "id": "view-in-github",
        "colab_type": "text"
      },
      "source": [
        "<a href=\"https://colab.research.google.com/github/kitty-8910/DAA-/blob/main/DAA_week_5.ipynb\" target=\"_parent\"><img src=\"https://colab.research.google.com/assets/colab-badge.svg\" alt=\"Open In Colab\"/></a>"
      ]
    },
    {
      "cell_type": "code",
      "execution_count": 1,
      "metadata": {
        "colab": {
          "base_uri": "https://localhost:8080/"
        },
        "id": "5zaf6776B_rj",
        "outputId": "40b2f7b4-b6a0-45df-9130-c89b7e5ff3e6"
      },
      "outputs": [
        {
          "output_type": "stream",
          "name": "stdout",
          "text": [
            "Enter the dimensions of matrices as a space-separated list.\n",
            "For example, for 3 matrices of dimensions 10x30, 30x5, and 5x60, enter: 10 30 5 60\n",
            "Dimensions: 20 6 30 18\n",
            "\n",
            "Minimum number of scalar multiplications is: 5400\n"
          ]
        }
      ],
      "source": [
        "def matrix_chain_order(p):\n",
        "    n = len(p) - 1  # Number of matrices\n",
        "    m = [[0] * n for _ in range(n)]  # Minimum cost table\n",
        "\n",
        "    # l is chain length\n",
        "    for l in range(2, n + 1):  # From chain length 2 to n\n",
        "        for i in range(n - l + 1):\n",
        "            j = i + l - 1\n",
        "            m[i][j] = float('inf')\n",
        "            for k in range(i, j):\n",
        "                cost = m[i][k] + m[k + 1][j] + p[i] * p[k + 1] * p[j + 1]\n",
        "                if cost < m[i][j]:\n",
        "                    m[i][j] = cost\n",
        "    return m[0][n - 1]\n",
        "\n",
        "\n",
        "# User Input\n",
        "def get_user_input():\n",
        "    print(\"Enter the dimensions of matrices as a space-separated list.\")\n",
        "    print(\"For example, for 3 matrices of dimensions 10x30, 30x5, and 5x60, enter: 10 30 5 60\")\n",
        "    dims = list(map(int, input(\"Dimensions: \").strip().split()))\n",
        "    if len(dims) < 2:\n",
        "        print(\"You must enter at least two numbers.\")\n",
        "        return\n",
        "    min_cost = matrix_chain_order(dims)\n",
        "    print(f\"\\nMinimum number of scalar multiplications is: {min_cost}\")\n",
        "\n",
        "\n",
        "# Run the function\n",
        "get_user_input()\n"
      ]
    }
  ]
}