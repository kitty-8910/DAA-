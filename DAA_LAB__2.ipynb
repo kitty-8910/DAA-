{
  "nbformat": 4,
  "nbformat_minor": 0,
  "metadata": {
    "colab": {
      "provenance": [],
      "authorship_tag": "ABX9TyNOr3IXTSfznsz7iaO0e66g",
      "include_colab_link": true
    },
    "kernelspec": {
      "name": "python3",
      "display_name": "Python 3"
    },
    "language_info": {
      "name": "python"
    }
  },
  "cells": [
    {
      "cell_type": "markdown",
      "metadata": {
        "id": "view-in-github",
        "colab_type": "text"
      },
      "source": [
        "<a href=\"https://colab.research.google.com/github/kitty-8910/DAA-/blob/main/DAA_LAB__2.ipynb\" target=\"_parent\"><img src=\"https://colab.research.google.com/assets/colab-badge.svg\" alt=\"Open In Colab\"/></a>"
      ]
    },
    {
      "cell_type": "code",
      "execution_count": null,
      "metadata": {
        "id": "_UAjdruJzDcg",
        "colab": {
          "base_uri": "https://localhost:8080/"
        },
        "outputId": "a0cb15fd-a4bf-45de-9167-93f1d183f795"
      },
      "outputs": [
        {
          "output_type": "stream",
          "name": "stdout",
          "text": [
            "Enter numbers, names, or words separated by spaces: annaya asha test falak sirisha \n",
            "Original Array: ['annaya', 'asha', 'test', 'falak', 'sirisha']\n",
            "Merging: ['annaya'] and ['asha']\n",
            "Result: ['annaya', 'asha']\n",
            "Merging: ['falak'] and ['sirisha']\n",
            "Result: ['falak', 'sirisha']\n",
            "Merging: ['test'] and ['falak', 'sirisha']\n",
            "Result: ['falak', 'sirisha', 'test']\n",
            "Merging: ['annaya', 'asha'] and ['falak', 'sirisha', 'test']\n",
            "Result: ['annaya', 'asha', 'falak', 'sirisha', 'test']\n",
            "Sorted Array: ['annaya', 'asha', 'falak', 'sirisha', 'test']\n"
          ]
        }
      ],
      "source": [
        "def merge_sort(arr):\n",
        "\n",
        "    if len(arr) <= 1:\n",
        "        return arr\n",
        "\n",
        "\n",
        "    mid = len(arr) // 2\n",
        "    left = merge_sort(arr[:mid])\n",
        "    right = merge_sort(arr[mid:])\n",
        "\n",
        "\n",
        "    return merge(left, right)\n",
        "def merge(left, right):\n",
        "    sorted_array = []\n",
        "    i, j = 0, 0\n",
        "    print(f\"Merging: {left} and {right}\")\n",
        "\n",
        "\n",
        "    while i < len(left) and j < len(right):\n",
        "        if left[i] < right[j]:\n",
        "            sorted_array.append(left[i])\n",
        "            i += 1\n",
        "        else:\n",
        "            sorted_array.append(right[j])\n",
        "            j += 1\n",
        "\n",
        "\n",
        "    sorted_array.extend(left[i:])\n",
        "    sorted_array.extend(right[j:])\n",
        "\n",
        "    print(f\"Result: {sorted_array}\")\n",
        "    return sorted_array\n",
        "user_input = input(\"Enter numbers, names, or words separated by spaces: \").split()\n",
        "arr = [int(i) if i.isdigit() else i for i in user_input]\n",
        "print(f\"Original Array: {arr}\")\n",
        "sorted_arr = merge_sort(arr)\n",
        "print(f\"Sorted Array: {sorted_arr}\")\n"
      ]
    },
    {
      "cell_type": "code",
      "source": [
        "def quick_sort(arr):\n",
        "    if len(arr) <= 1:\n",
        "        return arr\n",
        "\n",
        "    pivot = arr[-1]\n",
        "    left = [x for x in arr[:-1] if x <= pivot]\n",
        "    right = [x for x in arr[:-1] if x > pivot]\n",
        "\n",
        "    print(f\"Pivot: {pivot}, Left: {left}, Right: {right}\")\n",
        "\n",
        "\n",
        "    return quick_sort(left) + [pivot] + quick_sort(right)\n",
        "user_input = input(\"Enter numbers, names, or words separated by spaces: \").split()\n",
        "arr = [int(i) if i.isdigit() else i for i in user_input]\n",
        "print(f\"Original Array: {arr}\")\n",
        "sorted_arr = quick_sort(arr)\n",
        "print(f\"Sorted Array: {sorted_arr}\")\n"
      ],
      "metadata": {
        "colab": {
          "base_uri": "https://localhost:8080/"
        },
        "id": "LKsbnPPj9I2f",
        "outputId": "093a3768-604e-4c73-b6d4-fc909b5f4dea"
      },
      "execution_count": null,
      "outputs": [
        {
          "output_type": "stream",
          "name": "stdout",
          "text": [
            "Enter numbers, names, or words separated by spaces: hello whats is ur name \n",
            "Original Array: ['hello', 'whats', 'is', 'ur', 'name']\n",
            "Pivot: name, Left: ['hello', 'is'], Right: ['whats', 'ur']\n",
            "Pivot: is, Left: ['hello'], Right: []\n",
            "Pivot: ur, Left: [], Right: ['whats']\n",
            "Sorted Array: ['hello', 'is', 'name', 'ur', 'whats']\n"
          ]
        }
      ]
    },
    {
      "cell_type": "code",
      "source": [
        "def quick_sort(arr):\n",
        "    if len(arr) <= 1:\n",
        "        return arr\n",
        "\n",
        "    pivot = arr[-1]\n",
        "    pivot_str = str(pivot)\n",
        "\n",
        "\n",
        "    left = [x for x in arr[:-1] if str(x) <= pivot_str]\n",
        "    right = [x for x in arr[:-1] if str(x) > pivot_str]\n",
        "\n",
        "    print(f\"Pivot: {pivot} (as string: {pivot_str}), Left: {left}, Right: {right}\")\n",
        "\n",
        "\n",
        "    return quick_sort(left) + [pivot] + quick_sort(right)\n",
        "user_input = input(\"Enter numbers, names, or words separated by spaces: \").split()\n",
        "arr = [int(i) if i.isdigit() else i for i in user_input]\n",
        "print(f\"Original Array: {arr}\")\n",
        "sorted_arr = quick_sort(arr)\n",
        "print(f\"Sorted Array: {sorted_arr}\")\n"
      ],
      "metadata": {
        "colab": {
          "base_uri": "https://localhost:8080/"
        },
        "id": "OuaQbamm_ezm",
        "outputId": "ca6ac200-387d-4425-ec53-723c75b2320d"
      },
      "execution_count": null,
      "outputs": [
        {
          "output_type": "stream",
          "name": "stdout",
          "text": [
            "Enter numbers, names, or words separated by spaces: hello whts ur name 2 45 1 \n",
            "Original Array: ['hello', 'whts', 'ur', 'name', 2, 45, 1]\n",
            "Pivot: 1 (as string: 1), Left: [], Right: ['hello', 'whts', 'ur', 'name', 2, 45]\n",
            "Pivot: 45 (as string: 45), Left: [2], Right: ['hello', 'whts', 'ur', 'name']\n",
            "Pivot: name (as string: name), Left: ['hello'], Right: ['whts', 'ur']\n",
            "Pivot: ur (as string: ur), Left: [], Right: ['whts']\n",
            "Sorted Array: [1, 2, 45, 'hello', 'name', 'ur', 'whts']\n"
          ]
        }
      ]
    },
    {
      "cell_type": "code",
      "source": [],
      "metadata": {
        "id": "LhruZCsq-Nrd"
      },
      "execution_count": null,
      "outputs": []
    }
  ]
}