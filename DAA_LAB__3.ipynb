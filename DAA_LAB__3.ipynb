{
  "nbformat": 4,
  "nbformat_minor": 0,
  "metadata": {
    "colab": {
      "provenance": [],
      "authorship_tag": "ABX9TyMWf1E/a0gGWlaQp9LKn+zG",
      "include_colab_link": true
    },
    "kernelspec": {
      "name": "python3",
      "display_name": "Python 3"
    },
    "language_info": {
      "name": "python"
    }
  },
  "cells": [
    {
      "cell_type": "markdown",
      "metadata": {
        "id": "view-in-github",
        "colab_type": "text"
      },
      "source": [
        "<a href=\"https://colab.research.google.com/github/kitty-8910/DAA-/blob/main/DAA_LAB__3.ipynb\" target=\"_parent\"><img src=\"https://colab.research.google.com/assets/colab-badge.svg\" alt=\"Open In Colab\"/></a>"
      ]
    },
    {
      "cell_type": "code",
      "execution_count": null,
      "metadata": {
        "id": "iRvFkzGqxK47",
        "colab": {
          "base_uri": "https://localhost:8080/"
        },
        "outputId": "2c9ed54e-884f-413b-e475-14875d72398e"
      },
      "outputs": [
        {
          "output_type": "stream",
          "name": "stdout",
          "text": [
            "Enter words separated by spaces: reshma keerthi ramesh lalitha ruthi falak \n",
            "\n",
            "Sorted words: ['falak', 'keerthi', 'lalitha', 'ramesh', 'reshma', 'ruthi']\n",
            "Minimum word: falak\n",
            "Maximum word: ruthi\n"
          ]
        }
      ],
      "source": [
        "#divide and conqure with words\n",
        "def main():\n",
        "    words = input(\"Enter words separated by spaces: \").split()\n",
        "\n",
        "    if not words:\n",
        "        print(\"No words entered.\")\n",
        "        return\n",
        "\n",
        "    print(\"\\nSorted words:\", sorted(words))\n",
        "    print(\"Minimum word:\", min(words))\n",
        "    print(\"Maximum word:\", max(words))\n",
        "\n",
        "main()\n"
      ]
    },
    {
      "cell_type": "code",
      "source": [
        "def find_min_max(words):\n",
        "    if len(words) == 1:\n",
        "        return words[0], words[0]\n",
        "    elif len(words) == 2:\n",
        "        return (words[0], words[1]) if words[0] < words[1] else (words[1], words[0])\n",
        "    else:\n",
        "        mid = len(words) // 2\n",
        "        min1, max1 = find_min_max(words[:mid])\n",
        "        min2, max2 = find_min_max(words[mid:])\n",
        "        return min(min1, min2), max(max1, max2)\n",
        "\n",
        "def main():\n",
        "    words = input(\"Enter words separated by spaces: \").split()\n",
        "\n",
        "    if not words:\n",
        "        print(\"No words entered.\")\n",
        "        return\n",
        "\n",
        "    min_word, max_word = find_min_max(words)\n",
        "    print(\"\\nSorted words:\", sorted(words))\n",
        "    print(\"Minimum word:\", min_word)\n",
        "    print(\"Maximum word:\", max_word)\n",
        "\n",
        "main()\n"
      ],
      "metadata": {
        "colab": {
          "base_uri": "https://localhost:8080/"
        },
        "id": "-RIk-eGuzgkU",
        "outputId": "ad95b9ce-1d33-4a97-ceab-991ea51419f2"
      },
      "execution_count": null,
      "outputs": [
        {
          "output_type": "stream",
          "name": "stdout",
          "text": [
            "Enter words separated by spaces: keerthi reddy ramya rohit lalitha supritha rami xalima \n",
            "\n",
            "Sorted words: ['keerthi', 'lalitha', 'rami', 'ramya', 'reddy', 'rohit', 'supritha', 'xalima']\n",
            "Minimum word: keerthi\n",
            "Maximum word: xalima\n"
          ]
        }
      ]
    },
    {
      "cell_type": "code",
      "source": [
        "def find_min_max(arr):\n",
        "    if len(arr) == 1:\n",
        "        return arr[0], arr[0]\n",
        "    if len(arr) == 2:\n",
        "        return (arr[0], arr[1]) if arr[0] < arr[1] else (arr[1], arr[0])\n",
        "    mid = len(arr) // 2\n",
        "    min1, max1 = find_min_max(arr[:mid])\n",
        "    min2, max2 = find_min_max(arr[mid:])\n",
        "    return min(min1, min2), max(max1, max2)\n",
        "\n",
        "def merge_sort(arr, depth=0):\n",
        "    if len(arr) <= 1: return arr\n",
        "    mid = len(arr) // 2\n",
        "    left = merge_sort(arr[:mid], depth + 1)\n",
        "    right = merge_sort(arr[mid:], depth + 1)\n",
        "    print(\"  \" * depth + f\"Merging: {left} + {right}\")\n",
        "    merged = []\n",
        "    i = j = 0\n",
        "    while i < len(left) and j < len(right):\n",
        "        merged.append(left[i] if left[i] < right[j] else right[j])\n",
        "        if left[i] < right[j]: i += 1\n",
        "        else: j += 1\n",
        "    merged += left[i:] + right[j:]\n",
        "    print(\"  \" * depth + f\"Result: {merged}\")\n",
        "    return merged\n",
        "\n",
        "def main():\n",
        "    words = input(\"Enter words: \").split()\n",
        "    if not words:\n",
        "        print(\"No input.\")\n",
        "        return\n",
        "\n",
        "    sorted_words = merge_sort(words)\n",
        "    min_word, max_word = find_min_max(words)\n",
        "\n",
        "    print(\"Sorted:\", sorted_words)\n",
        "    print(\"Min:\", min_word)\n",
        "    print(\"Max:\", max_word)\n",
        "\n",
        "main()\n"
      ],
      "metadata": {
        "colab": {
          "base_uri": "https://localhost:8080/"
        },
        "id": "-3VYRLLW0FM7",
        "outputId": "22f08a9f-4731-42e8-9de7-16382706acbd"
      },
      "execution_count": null,
      "outputs": [
        {
          "output_type": "stream",
          "name": "stdout",
          "text": [
            "Enter words: hello what are you doing \n",
            "  Merging: ['hello'] + ['what']\n",
            "  Result: ['hello', 'what']\n",
            "    Merging: ['you'] + ['doing']\n",
            "    Result: ['doing', 'you']\n",
            "  Merging: ['are'] + ['doing', 'you']\n",
            "  Result: ['are', 'doing', 'you']\n",
            "Merging: ['hello', 'what'] + ['are', 'doing', 'you']\n",
            "Result: ['are', 'doing', 'hello', 'what', 'you']\n",
            "Sorted: ['are', 'doing', 'hello', 'what', 'you']\n",
            "Min: are\n",
            "Max: you\n"
          ]
        }
      ]
    },
    {
      "cell_type": "code",
      "source": [
        "def fractional_knapsack():\n",
        "    # Input profits and weights\n",
        "    n = int(input(\"Enter number of items: \"))\n",
        "    p = list(map(float, input(f\"Enter {n} profits separated by space: \").split()))\n",
        "    w = list(map(float, input(f\"Enter {n} weights separated by space: \").split()))\n",
        "\n",
        "    if len(p) != n or len(w) != n:\n",
        "        print(\"Error: Number of profits and weights must match the number of items.\")\n",
        "        return\n",
        "\n",
        "    # Show ratios and sort by value-to-weight ratio\n",
        "    ratios = [p[i]/w[i] for i in range(n)]\n",
        "    items = [(ratios[i], p[i], w[i], i) for i in range(n)]\n",
        "    items.sort(reverse=True)  # Sort by decreasing ratio\n",
        "\n",
        "    print(\"\\nItems sorted by value-to-weight ratio (descending):\")\n",
        "    print(\"Index\\tProfit\\tWeight\\tRatio\")\n",
        "    for r, pi, wi, idx in items:\n",
        "        print(f\"{idx}\\t{pi}\\t{wi}\\t{r:.2f}\")\n",
        "\n",
        "    # Input xi values from user\n",
        "    print(\"\\nEnter the fraction xi for each item in the sorted order (0 to 1):\")\n",
        "    xi = []\n",
        "    for i, (r, pi, wi, idx) in enumerate(items):\n",
        "        val = float(input(f\"xi for item with profit={pi}, weight={wi}: \"))\n",
        "        if not (0 <= val <= 1):\n",
        "            print(\"xi must be between 0 and 1.\")\n",
        "            return\n",
        "        xi.append(val)\n",
        "\n",
        "    # Calculate total value\n",
        "    total_value = sum(xi[i] * items[i][1] for i in range(n))\n",
        "\n",
        "    print(\"\\nResult:\")\n",
        "    print(f\"Total value of knapsack = {total_value:.2f}\")\n",
        "\n",
        "# Run the function\n",
        "fractional_knapsack()\n"
      ],
      "metadata": {
        "id": "bzToyGJT1-sV",
        "colab": {
          "base_uri": "https://localhost:8080/"
        },
        "outputId": "10be570e-acc2-4655-c435-38d14afbbf28"
      },
      "execution_count": 7,
      "outputs": [
        {
          "output_type": "stream",
          "name": "stdout",
          "text": [
            "Enter number of items: 3\n",
            "Enter 3 profits separated by space: 12 45 88\n",
            "Enter 3 weights separated by space: 16 33 12\n",
            "\n",
            "Items sorted by value-to-weight ratio (descending):\n",
            "Index\tProfit\tWeight\tRatio\n",
            "2\t88.0\t12.0\t7.33\n",
            "1\t45.0\t33.0\t1.36\n",
            "0\t12.0\t16.0\t0.75\n",
            "\n",
            "Enter the fraction xi for each item in the sorted order (0 to 1):\n",
            "xi for item with profit=88.0, weight=12.0: 0\n",
            "xi for item with profit=45.0, weight=33.0: 0.1333\n",
            "xi for item with profit=12.0, weight=16.0: 1\n",
            "\n",
            "Result:\n",
            "Total value of knapsack = 18.00\n"
          ]
        }
      ]
    }
  ]
}