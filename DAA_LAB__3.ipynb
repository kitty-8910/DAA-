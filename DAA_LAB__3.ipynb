{
  "nbformat": 4,
  "nbformat_minor": 0,
  "metadata": {
    "colab": {
      "provenance": [],
      "authorship_tag": "ABX9TyPJeOoFxEZSMpkOLJpoyeTp",
      "include_colab_link": true
    },
    "kernelspec": {
      "name": "python3",
      "display_name": "Python 3"
    },
    "language_info": {
      "name": "python"
    }
  },
  "cells": [
    {
      "cell_type": "markdown",
      "metadata": {
        "id": "view-in-github",
        "colab_type": "text"
      },
      "source": [
        "<a href=\"https://colab.research.google.com/github/kitty-8910/DAA-/blob/main/DAA_LAB__3.ipynb\" target=\"_parent\"><img src=\"https://colab.research.google.com/assets/colab-badge.svg\" alt=\"Open In Colab\"/></a>"
      ]
    },
    {
      "cell_type": "code",
      "execution_count": null,
      "metadata": {
        "id": "iRvFkzGqxK47",
        "colab": {
          "base_uri": "https://localhost:8080/"
        },
        "outputId": "2c9ed54e-884f-413b-e475-14875d72398e"
      },
      "outputs": [
        {
          "output_type": "stream",
          "name": "stdout",
          "text": [
            "Enter words separated by spaces: reshma keerthi ramesh lalitha ruthi falak \n",
            "\n",
            "Sorted words: ['falak', 'keerthi', 'lalitha', 'ramesh', 'reshma', 'ruthi']\n",
            "Minimum word: falak\n",
            "Maximum word: ruthi\n"
          ]
        }
      ],
      "source": [
        "#divide and conqure with words\n",
        "def main():\n",
        "    words = input(\"Enter words separated by spaces: \").split()\n",
        "\n",
        "    if not words:\n",
        "        print(\"No words entered.\")\n",
        "        return\n",
        "\n",
        "    print(\"\\nSorted words:\", sorted(words))\n",
        "    print(\"Minimum word:\", min(words))\n",
        "    print(\"Maximum word:\", max(words))\n",
        "\n",
        "main()\n"
      ]
    },
    {
      "cell_type": "code",
      "source": [
        "def find_min_max(words):\n",
        "    if len(words) == 1:\n",
        "        return words[0], words[0]\n",
        "    elif len(words) == 2:\n",
        "        return (words[0], words[1]) if words[0] < words[1] else (words[1], words[0])\n",
        "    else:\n",
        "        mid = len(words) // 2\n",
        "        min1, max1 = find_min_max(words[:mid])\n",
        "        min2, max2 = find_min_max(words[mid:])\n",
        "        return min(min1, min2), max(max1, max2)\n",
        "\n",
        "def main():\n",
        "    words = input(\"Enter words separated by spaces: \").split()\n",
        "\n",
        "    if not words:\n",
        "        print(\"No words entered.\")\n",
        "        return\n",
        "\n",
        "    min_word, max_word = find_min_max(words)\n",
        "    print(\"\\nSorted words:\", sorted(words))\n",
        "    print(\"Minimum word:\", min_word)\n",
        "    print(\"Maximum word:\", max_word)\n",
        "\n",
        "main()\n"
      ],
      "metadata": {
        "colab": {
          "base_uri": "https://localhost:8080/"
        },
        "id": "-RIk-eGuzgkU",
        "outputId": "ad95b9ce-1d33-4a97-ceab-991ea51419f2"
      },
      "execution_count": null,
      "outputs": [
        {
          "output_type": "stream",
          "name": "stdout",
          "text": [
            "Enter words separated by spaces: keerthi reddy ramya rohit lalitha supritha rami xalima \n",
            "\n",
            "Sorted words: ['keerthi', 'lalitha', 'rami', 'ramya', 'reddy', 'rohit', 'supritha', 'xalima']\n",
            "Minimum word: keerthi\n",
            "Maximum word: xalima\n"
          ]
        }
      ]
    },
    {
      "cell_type": "code",
      "source": [
        "def find_min_max(arr):\n",
        "    if len(arr) == 1:\n",
        "        return arr[0], arr[0]\n",
        "    if len(arr) == 2:\n",
        "        return (arr[0], arr[1]) if arr[0] < arr[1] else (arr[1], arr[0])\n",
        "    mid = len(arr) // 2\n",
        "    min1, max1 = find_min_max(arr[:mid])\n",
        "    min2, max2 = find_min_max(arr[mid:])\n",
        "    return min(min1, min2), max(max1, max2)\n",
        "\n",
        "def merge_sort(arr, depth=0):\n",
        "    if len(arr) <= 1: return arr\n",
        "    mid = len(arr) // 2\n",
        "    left = merge_sort(arr[:mid], depth + 1)\n",
        "    right = merge_sort(arr[mid:], depth + 1)\n",
        "    print(\"  \" * depth + f\"Merging: {left} + {right}\")\n",
        "    merged = []\n",
        "    i = j = 0\n",
        "    while i < len(left) and j < len(right):\n",
        "        merged.append(left[i] if left[i] < right[j] else right[j])\n",
        "        if left[i] < right[j]: i += 1\n",
        "        else: j += 1\n",
        "    merged += left[i:] + right[j:]\n",
        "    print(\"  \" * depth + f\"Result: {merged}\")\n",
        "    return merged\n",
        "\n",
        "def main():\n",
        "    words = input(\"Enter words: \").split()\n",
        "    if not words:\n",
        "        print(\"No input.\")\n",
        "        return\n",
        "\n",
        "    sorted_words = merge_sort(words)\n",
        "    min_word, max_word = find_min_max(words)\n",
        "\n",
        "    print(\"Sorted:\", sorted_words)\n",
        "    print(\"Min:\", min_word)\n",
        "    print(\"Max:\", max_word)\n",
        "\n",
        "main()\n"
      ],
      "metadata": {
        "colab": {
          "base_uri": "https://localhost:8080/"
        },
        "id": "-3VYRLLW0FM7",
        "outputId": "22f08a9f-4731-42e8-9de7-16382706acbd"
      },
      "execution_count": null,
      "outputs": [
        {
          "output_type": "stream",
          "name": "stdout",
          "text": [
            "Enter words: hello what are you doing \n",
            "  Merging: ['hello'] + ['what']\n",
            "  Result: ['hello', 'what']\n",
            "    Merging: ['you'] + ['doing']\n",
            "    Result: ['doing', 'you']\n",
            "  Merging: ['are'] + ['doing', 'you']\n",
            "  Result: ['are', 'doing', 'you']\n",
            "Merging: ['hello', 'what'] + ['are', 'doing', 'you']\n",
            "Result: ['are', 'doing', 'hello', 'what', 'you']\n",
            "Sorted: ['are', 'doing', 'hello', 'what', 'you']\n",
            "Min: are\n",
            "Max: you\n"
          ]
        }
      ]
    },
    {
      "cell_type": "code",
      "source": [],
      "metadata": {
        "id": "bzToyGJT1-sV"
      },
      "execution_count": null,
      "outputs": []
    }
  ]
}