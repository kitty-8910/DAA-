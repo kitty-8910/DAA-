{
  "nbformat": 4,
  "nbformat_minor": 0,
  "metadata": {
    "colab": {
      "provenance": [],
      "authorship_tag": "ABX9TyPCrPCNU2UP234lGmPz80f0",
      "include_colab_link": true
    },
    "kernelspec": {
      "name": "python3",
      "display_name": "Python 3"
    },
    "language_info": {
      "name": "python"
    }
  },
  "cells": [
    {
      "cell_type": "markdown",
      "metadata": {
        "id": "view-in-github",
        "colab_type": "text"
      },
      "source": [
        "<a href=\"https://colab.research.google.com/github/kitty-8910/DAA-/blob/main/DAA_lab_4%265.ipynb\" target=\"_parent\"><img src=\"https://colab.research.google.com/assets/colab-badge.svg\" alt=\"Open In Colab\"/></a>"
      ]
    },
    {
      "cell_type": "code",
      "execution_count": null,
      "metadata": {
        "colab": {
          "base_uri": "https://localhost:8080/"
        },
        "id": "AUn9HpdjBSkt",
        "outputId": "cf6068be-6be5-407c-f4a6-273ad6219703"
      },
      "outputs": [
        {
          "output_type": "stream",
          "name": "stdout",
          "text": [
            "Enter item values: 40 60 90 \n",
            "Enter item weights: 20 10 30 \n",
            "Enter knapsack capacity: 50 \n",
            "Maximum value that can be carried: 150\n"
          ]
        }
      ],
      "source": [
        "def knapsack(values, weights, capacity):\n",
        "    n = len(values)\n",
        "    dp = [[0] * (capacity + 1) for _ in range(n + 1)]\n",
        "    for i in range(1, n + 1):\n",
        "        for w in range(1, capacity + 1):\n",
        "            if weights[i - 1] <= w:\n",
        "\n",
        "                dp[i][w] = max(dp[i - 1][w], values[i - 1] + dp[i - 1][w - weights[i - 1]])\n",
        "            else:\n",
        "\n",
        "                dp[i][w] = dp[i - 1][w]\n",
        "\n",
        "    return dp[n][capacity]\n",
        "values = list(map(int, input(\"Enter item values: \").split()))\n",
        "weights = list(map(int, input(\"Enter item weights: \").split()))\n",
        "capacity = int(input(\"Enter knapsack capacity: \"))\n",
        "print(\"Maximum value that can be carried:\", knapsack(values, weights, capacity))\n"
      ]
    },
    {
      "cell_type": "code",
      "source": [
        "def lcs_tabulation_all(a, b):\n",
        "    m, n = len(a), len(b)\n",
        "    dp = [[0] * (n + 1) for _ in range(m + 1)]\n",
        "\n",
        "    # Step 1: Build DP table\n",
        "    for i in range(1, m + 1):\n",
        "        for j in range(1, n + 1):\n",
        "            if a[i - 1] == b[j - 1]:\n",
        "                dp[i][j] = 1 + dp[i - 1][j - 1]\n",
        "            else:\n",
        "                dp[i][j] = max(dp[i - 1][j], dp[i][j - 1])\n",
        "\n",
        "    # Step 2: Backtrack to find all LCSs\n",
        "    from functools import lru_cache\n",
        "\n",
        "    @lru_cache(maxsize=None)\n",
        "    def backtrack(i, j):\n",
        "        if i == 0 or j == 0:\n",
        "            return {\"\"}\n",
        "        elif a[i - 1] == b[j - 1]:\n",
        "            return {s + a[i - 1] for s in backtrack(i - 1, j - 1)}\n",
        "        else:\n",
        "            res = set()\n",
        "            if dp[i - 1][j] >= dp[i][j - 1]:\n",
        "                res.update(backtrack(i - 1, j))\n",
        "            if dp[i][j - 1] >= dp[i - 1][j]:\n",
        "                res.update(backtrack(i, j - 1))\n",
        "            return res\n",
        "\n",
        "    all_lcs = backtrack(m, n)\n",
        "    print(\"LCS length:\", dp[m][n])\n",
        "    print(\"All possible LCS subsequences:\")\n",
        "    for seq in sorted(all_lcs):\n",
        "        print(seq)\n",
        "\n",
        "# 📥 Input\n",
        "str1 = input(\"Enter first string: \")\n",
        "str2 = input(\"Enter second string: \")\n",
        "\n",
        "lcs_tabulation_all(str1, str2)\n"
      ],
      "metadata": {
        "colab": {
          "base_uri": "https://localhost:8080/"
        },
        "id": "G812hDC6Ik0T",
        "outputId": "47daaeae-060a-4416-a836-e11db3022bfa"
      },
      "execution_count": null,
      "outputs": [
        {
          "output_type": "stream",
          "name": "stdout",
          "text": [
            "Enter first string: A B C D E \n",
            "Enter second string: B A C D\n",
            "LCS length: 5\n",
            "All possible LCS subsequences:\n",
            "  C D\n",
            "A C D\n",
            "B C D\n"
          ]
        }
      ]
    },
    {
      "cell_type": "code",
      "source": [
        "def lcs_recursive(a, b):\n",
        "    if not a or not b:\n",
        "        return 0\n",
        "    if a[-1] == b[-1]:\n",
        "        return 1 + lcs_recursive(a[:-1], b[:-1])\n",
        "    else:\n",
        "        return max(lcs_recursive(a[:-1], b), lcs_recursive(a, b[:-1]))\n",
        "\n",
        "# Input\n",
        "str1 = input(\"Enter first string: \")\n",
        "str2 = input(\"Enter second string: \")\n",
        "print(\"LCS length (Recursive):\", lcs_recursive(str1, str2))\n"
      ],
      "metadata": {
        "colab": {
          "base_uri": "https://localhost:8080/"
        },
        "id": "Jzzznhs4Iygp",
        "outputId": "a44763e3-67d1-4919-dd92-dd78a578761b"
      },
      "execution_count": null,
      "outputs": [
        {
          "output_type": "stream",
          "name": "stdout",
          "text": [
            "Enter first string: H E L L O \n",
            "Enter second string: H E L L \n",
            "LCS length (Recursive): 8\n"
          ]
        }
      ]
    },
    {
      "cell_type": "code",
      "source": [
        "def lcs_memo(a, b):\n",
        "    memo = {}\n",
        "\n",
        "    def dp(i, j):\n",
        "        if i == len(a) or j == len(b):\n",
        "            return 0\n",
        "        if (i, j) in memo:\n",
        "            return memo[(i, j)]\n",
        "        if a[i] == b[j]:\n",
        "            memo[(i, j)] = 1 + dp(i + 1, j + 1)\n",
        "        else:\n",
        "            memo[(i, j)] = max(dp(i + 1, j), dp(i, j + 1))\n",
        "        return memo[(i, j)]\n",
        "\n",
        "    return dp(0, 0)\n",
        "\n",
        "# Input\n",
        "str1 = input(\"Enter first string: \")\n",
        "str2 = input(\"Enter second string: \")\n",
        "print(\"LCS length (Memoization):\", lcs_memo(str1, str2))\n"
      ],
      "metadata": {
        "colab": {
          "base_uri": "https://localhost:8080/"
        },
        "id": "FjpHkc-tI-T5",
        "outputId": "7a303fac-7020-4ac5-c0c8-3b79350d879d"
      },
      "execution_count": null,
      "outputs": [
        {
          "output_type": "stream",
          "name": "stdout",
          "text": [
            "Enter first string:  M O R N I N G \n",
            "Enter second string: N I N G\n",
            "LCS length (Memoization): 7\n"
          ]
        }
      ]
    }
  ]
}